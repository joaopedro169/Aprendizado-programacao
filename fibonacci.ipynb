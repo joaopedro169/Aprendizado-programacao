{
  "nbformat": 4,
  "nbformat_minor": 0,
  "metadata": {
    "colab": {
      "provenance": [],
      "authorship_tag": "ABX9TyMloU5Yrbh4Raa8rmUna6hH",
      "include_colab_link": true
    },
    "kernelspec": {
      "name": "python3",
      "display_name": "Python 3"
    },
    "language_info": {
      "name": "python"
    }
  },
  "cells": [
    {
      "cell_type": "markdown",
      "metadata": {
        "id": "view-in-github",
        "colab_type": "text"
      },
      "source": [
        "<a href=\"https://colab.research.google.com/github/joaopedro169/Aprendizado-programacao/blob/main/fibonacci.ipynb\" target=\"_parent\"><img src=\"https://colab.research.google.com/assets/colab-badge.svg\" alt=\"Open In Colab\"/></a>"
      ]
    },
    {
      "cell_type": "code",
      "source": [
        "def fibonacci(x):\n",
        "  n1=0\n",
        "  n2=1\n",
        "  if x==1:\n",
        "    return 0\n",
        "  if x==0:\n",
        "    return print(\"error\")\n",
        "  if x==2:\n",
        "    return 1\n",
        "  for num in range(2,x):\n",
        "    sum = n1+n2\n",
        "    n1=n2\n",
        "    n2=sum\n",
        "  return n2"
      ],
      "metadata": {
        "id": "VLLCCvScvIM4"
      },
      "execution_count": null,
      "outputs": []
    },
    {
      "cell_type": "code",
      "source": [
        "fibonacci(30)"
      ],
      "metadata": {
        "colab": {
          "base_uri": "https://localhost:8080/"
        },
        "id": "YDLTsLfOwdBh",
        "outputId": "d604ba54-b8e1-40db-b9ff-4944defc5ca5"
      },
      "execution_count": null,
      "outputs": [
        {
          "output_type": "execute_result",
          "data": {
            "text/plain": [
              "514229"
            ]
          },
          "metadata": {},
          "execution_count": 33
        }
      ]
    }
  ]
}